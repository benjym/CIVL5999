{
  "nbformat": 4,
  "nbformat_minor": 0,
  "metadata": {
    "colab": {
      "name": "FFTs_and_probability.ipynb",
      "version": "0.3.2",
      "provenance": [],
      "include_colab_link": true
    },
    "kernelspec": {
      "name": "python3",
      "display_name": "Python 3"
    }
  },
  "cells": [
    {
      "cell_type": "markdown",
      "metadata": {
        "id": "view-in-github",
        "colab_type": "text"
      },
      "source": [
        "<a href=\"https://colab.research.google.com/github/benjym/CIVL5999/blob/master/FFTs_and_probability.ipynb\" target=\"_parent\"><img src=\"https://colab.research.google.com/assets/colab-badge.svg\" alt=\"Open In Colab\"/></a>"
      ]
    },
    {
      "metadata": {
        "id": "W8LfQxmd-VGP",
        "colab_type": "code",
        "colab": {}
      },
      "cell_type": "code",
      "source": [
        "# Run this cell first\n",
        "import numpy as np\n",
        "import matplotlib.pyplot as plt"
      ],
      "execution_count": 0,
      "outputs": []
    },
    {
      "metadata": {
        "id": "TZFAmmzrL8J8",
        "colab_type": "text"
      },
      "cell_type": "markdown",
      "source": [
        "# CIVL5999: FFTs and probability\n",
        "\n",
        "## 2.1 Mean and variance\n",
        "If you don't already have the dataset downloaded from canvas, download and uncompress `Archive.zip` into the same directory that you have this file in.\n",
        "\n",
        "## Question 2.1.1\n",
        "Recall the definition of the mean, $\\mu$ of an array $x_i$ with $N$ elements, $\\mu=\\frac{1}{N}\\sum_{i=1}^{N}x_i$. Write a script to calculate the mean of a list of values by iterating through them. Use this as a starting point:\n",
        "```\n",
        "data = [23,46,53,21,36,208,0.4,111]\n",
        "for i in data:\n",
        "    x = i; \n",
        "    print(x)\n",
        "```"
      ]
    },
    {
      "metadata": {
        "id": "rZ-6TaeL-RTw",
        "colab_type": "code",
        "colab": {}
      },
      "cell_type": "code",
      "source": [
        "# Type your code here"
      ],
      "execution_count": 0,
      "outputs": []
    },
    {
      "metadata": {
        "id": "4Yu-Uuh-MtFQ",
        "colab_type": "text"
      },
      "cell_type": "markdown",
      "source": [
        "## Question 2.1.2\n",
        "Write another script that will calculate the variance, $\\sigma^2=\\frac{1}{N}\\sum_{i=1}^{N}(x_i - \\mu)^2$, of the same list of values."
      ]
    },
    {
      "metadata": {
        "id": "7JcB-R3IMlES",
        "colab_type": "code",
        "colab": {}
      },
      "cell_type": "code",
      "source": [
        "# Type your code here"
      ],
      "execution_count": 0,
      "outputs": []
    },
    {
      "metadata": {
        "id": "CS0AQB3sMtMP",
        "colab_type": "text"
      },
      "cell_type": "markdown",
      "source": [
        "## Question 2.1.3\n",
        "Numpy has two built in functions, `np.mean` and `np.var`. See if these give the same results as your script."
      ]
    },
    {
      "metadata": {
        "id": "x5At7aPOMdzM",
        "colab_type": "code",
        "colab": {}
      },
      "cell_type": "code",
      "source": [
        "# Type your code here"
      ],
      "execution_count": 0,
      "outputs": []
    },
    {
      "metadata": {
        "id": "_H2JsX6MMtOy",
        "colab_type": "text"
      },
      "cell_type": "markdown",
      "source": [
        "## Question 2.1.4\n",
        "Take a look at the `example.csv` file. The 2nd and 3rd columns are the positions of an object on $X$ and $Y$ axes at different time steps. Load the file using the `np.loadtxt` function. Calculate the mean and variance of this data.\n"
      ]
    },
    {
      "metadata": {
        "id": "6l46PgT7MN91",
        "colab_type": "code",
        "colab": {}
      },
      "cell_type": "code",
      "source": [
        "# Type your code here"
      ],
      "execution_count": 0,
      "outputs": []
    },
    {
      "metadata": {
        "id": "M9UjBia_MtUS",
        "colab_type": "text"
      },
      "cell_type": "markdown",
      "source": [
        "# 2.2 Autocorrelation\n",
        "[](https://upload.wikimedia.org/wikipedia/commons/thumb/2/21/Comparison_convolution_correlation.svg/800px-Comparison_convolution_correlation.svg.png)\n",
        "## Question 2.2.1\n",
        "Write a script to calculate the autocorrelation coefficient of a list of values for a given time difference $\\Delta t$. Recall the definition of the autocorrelation coefficient $R(\\Delta t)$  between two time points $t$ and $t+\\Delta t$, where $E[]$ is the expectation operator and $\\mu=E[x]$:\n",
        "\n",
        "$$\n",
        "R(\\Delta t) = \\frac{()E[X(t) - \\mu(t))(X(t+\\Delta t)-\\mu(t+\\Delta t))]}{\\sigma(t)\\sigma(t+\\Delta t)}\n",
        "$$"
      ]
    },
    {
      "metadata": {
        "id": "Ll0Lo4hnMx0A",
        "colab_type": "code",
        "colab": {}
      },
      "cell_type": "code",
      "source": [
        "# Type your code here"
      ],
      "execution_count": 0,
      "outputs": []
    },
    {
      "metadata": {
        "id": "_1QTkmJpMtXJ",
        "colab_type": "text"
      },
      "cell_type": "markdown",
      "source": [
        "## Question 2.2.2\n",
        "Now extend your script with a `for` loop to calculate the value for every $\\Delta t$ from the start to the end of the array."
      ]
    },
    {
      "metadata": {
        "id": "3Y84fyIb9qoZ",
        "colab_type": "code",
        "colab": {}
      },
      "cell_type": "code",
      "source": [
        "# Type your code here"
      ],
      "execution_count": 0,
      "outputs": []
    },
    {
      "metadata": {
        "id": "yvJmvFNg9yLQ",
        "colab_type": "text"
      },
      "cell_type": "markdown",
      "source": [
        "## Question 2.2.3\n",
        "Create a signal $y=sin(\\pi x)$ from $x=0$ to $x=6$ and calculate the autocorrelation. Plot this and save the image as `auto_corr.png`. Is this function stationary? How can you tell?"
      ]
    },
    {
      "metadata": {
        "colab_type": "code",
        "id": "dtBU_VMIAEPo",
        "colab": {}
      },
      "cell_type": "code",
      "source": [
        "# Type your code here"
      ],
      "execution_count": 0,
      "outputs": []
    },
    {
      "metadata": {
        "colab_type": "text",
        "id": "0s29RTVIAEoK"
      },
      "cell_type": "markdown",
      "source": [
        "## Question 2.2.4\n",
        "Do the same for $y=sin(\\pi x) + x$ from $x=0$ to $x=6$ What does this tell you?"
      ]
    },
    {
      "metadata": {
        "colab_type": "code",
        "id": "BXuX_qXEAEqn",
        "colab": {}
      },
      "cell_type": "code",
      "source": [
        "# Type your code here"
      ],
      "execution_count": 0,
      "outputs": []
    },
    {
      "metadata": {
        "colab_type": "text",
        "id": "zETfBISTAEl2"
      },
      "cell_type": "markdown",
      "source": [
        "## Question 2.2.5\n",
        "Do this again for `Dataset_01/Signal_C_01` and plot the autocorrelation. What does this tell you?"
      ]
    },
    {
      "metadata": {
        "colab_type": "code",
        "id": "EKugA-NpAEjH",
        "colab": {}
      },
      "cell_type": "code",
      "source": [
        "# Type your code here"
      ],
      "execution_count": 0,
      "outputs": []
    },
    {
      "metadata": {
        "colab_type": "text",
        "id": "lJvUOyaBAEjK"
      },
      "cell_type": "markdown",
      "source": [
        "# 2.3 Cross-correlation\n",
        "## Question 2.3.1\n",
        "Write a script to calculate the cross-correlation coefficient of two lists of values for all values of  $\\Delta t$. Recall the definition of the cross-correlation coefficient, $C$ for two functions   and $X(t)$ and $Y(t+\\Delta t)$ with means $\\mu_x$ and $\\mu_y$ and standard deviations $\\sigma_x$ and $\\sigma_y$ respectively:\n",
        "\n",
        "$$\n",
        "C(\\Delta t) = \\frac{()E[X(t) - \\mu_x(t))(Y(t+\\Delta t)-\\mu_y(t+\\Delta t))]}{\\sigma_x(t)\\sigma_y(t+\\Delta t)}\n",
        "$$"
      ]
    },
    {
      "metadata": {
        "colab_type": "code",
        "id": "miCm9pnbAEoH",
        "colab": {}
      },
      "cell_type": "code",
      "source": [
        "# Type your code here"
      ],
      "execution_count": 0,
      "outputs": []
    },
    {
      "metadata": {
        "colab_type": "text",
        "id": "kWhFQoq_AEgb"
      },
      "cell_type": "markdown",
      "source": [
        "## Question 2.3.2\n",
        "Calculate the cross-correlation of `Dataset_01/Signal_C_01` and `Dataset_01/Signal_C_02`. What does this tell you?"
      ]
    },
    {
      "metadata": {
        "colab_type": "code",
        "id": "0R32O2lKAEgX",
        "colab": {}
      },
      "cell_type": "code",
      "source": [
        "# Type your code here"
      ],
      "execution_count": 0,
      "outputs": []
    },
    {
      "metadata": {
        "colab_type": "text",
        "id": "4WiJjGE8AEqq"
      },
      "cell_type": "markdown",
      "source": [
        "## Question 2.3.3\n",
        "Have a look at the `np.correlate` function. Compare it against your calculations in Questions 2.25 and 2.3.2. How did you go?"
      ]
    },
    {
      "metadata": {
        "colab_type": "code",
        "id": "V5GsfqgnAElx",
        "colab": {}
      },
      "cell_type": "code",
      "source": [
        "# Type your code here"
      ],
      "execution_count": 0,
      "outputs": []
    }
  ]
}