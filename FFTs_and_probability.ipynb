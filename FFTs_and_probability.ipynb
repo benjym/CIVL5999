{
  "nbformat": 4,
  "nbformat_minor": 0,
  "metadata": {
    "colab": {
      "name": "FFTs_and_probability.ipynb",
      "version": "0.3.2",
      "provenance": [],
      "include_colab_link": true
    },
    "kernelspec": {
      "name": "python3",
      "display_name": "Python 3"
    }
  },
  "cells": [
    {
      "cell_type": "markdown",
      "metadata": {
        "id": "view-in-github",
        "colab_type": "text"
      },
      "source": [
        "<a href=\"https://colab.research.google.com/github/benjym/CIVL5999/blob/master/FFTs_and_probability.ipynb\" target=\"_parent\"><img src=\"https://colab.research.google.com/assets/colab-badge.svg\" alt=\"Open In Colab\"/></a>"
      ]
    },
    {
      "metadata": {
        "id": "W8LfQxmd-VGP",
        "colab_type": "code",
        "colab": {}
      },
      "cell_type": "code",
      "source": [
        "# Run this cell first\n",
        "import numpy as np\n",
        "import matplotlib.pyplot as plt"
      ],
      "execution_count": 0,
      "outputs": []
    },
    {
      "metadata": {
        "id": "TZFAmmzrL8J8",
        "colab_type": "text"
      },
      "cell_type": "markdown",
      "source": [
        "# CIVL5999: FFTs and probability\n",
        "\n",
        "## 3.1 Fourier transform\n",
        "[First, read through this](https://pudding.cool/2018/02/waveforms/).\n",
        "\n",
        "[And then watch this](https://www.youtube.com/watch?v=spUNpyF58BY).\n",
        "\n",
        "If you are still not sure what the Fourier transform is, [then read this](https://betterexplained.com/articles/an-interactive-guide-to-the-fourier-transform/).\n",
        "\n",
        "In short, what the Fourier transform does is as simple as this analogy taken from the link above:\n",
        "- **What does the Fourier Transform do?** Given a smoothie, it finds the recipe.\n",
        "- **How?** Run the smoothie through filters to extract each ingredient.\n",
        "- **Why?** Recipes are easier to analyze, compare, and modify than the smoothie itself.\n",
        "- **How do we get the smoothie back?** Blend the ingredients.\n",
        "\n",
        "Smoothie = signal made out of many ingredients\n",
        "\n",
        "Ingredient = single sine wave with its own amplitude, frequency and phase\n",
        "\n",
        "The more sure we are what the ingredients are, the longer the signal lasts.  \n",
        "\n",
        "## Question 3.1.1\n",
        "Let's mix our own smoothie using Python! We can get different types of very interesting functions (patterns) just by adding sine waves of different amplitudes $a_1$, $a_2$, ..., frequencies $f_1$, $f_2$, ..., and phases $\\phi_1$, $\\phi_2$, ...\n",
        "\n",
        "Plot the function $y$ that will add 5 different sine waves:\n",
        "\n",
        "$$\n",
        "y = a_1\\sin(f_1x+\\phi_1) + a_2\\sin(f_2x+\\phi_2) + a_3\\sin(f_3x+\\phi_3) + a_4\\sin(f_4x+\\phi_4) + a_5\\sin(f_5x+\\phi_5)\n",
        "$$\n",
        "\n",
        "from $x=0$ to $x=10$. Play around with the values and make something interesting. Maybe a triangular wave? What is the secret recipe for triangular wave smoothie? Save it as `FFT_doodle.png`. To get started, use the following code:"
      ]
    },
    {
      "metadata": {
        "id": "rZ-6TaeL-RTw",
        "colab_type": "code",
        "colab": {
          "base_uri": "https://localhost:8080/",
          "height": 364
        },
        "outputId": "775bd96f-f14a-4e03-ba02-2cb2e59f82b7"
      },
      "cell_type": "code",
      "source": [
        "n = 1001 # number of points, chosen arbitrarily\n",
        "x = np.linspace(0,10,n) # vector storing the x values\n",
        "a = [1,1,1,1,1] # amplitudes\n",
        "f = [1,2,3,4,5] # frequencies\n",
        "phi = [0,0,0,0,0] # phases\n",
        "y = np.zeros([n]) # empty array to store y in \n",
        "\n",
        "for i in range(5): # 5 times\n",
        "    y += a[i]*np.sin(f[i]*x + phi[i]) # add up the parts of y\n",
        "\n",
        "plt.plot(x,y) # make a graph"
      ],
      "execution_count": 7,
      "outputs": [
        {
          "output_type": "execute_result",
          "data": {
            "text/plain": [
              "[<matplotlib.lines.Line2D at 0x7fdb409bff60>]"
            ]
          },
          "metadata": {
            "tags": []
          },
          "execution_count": 7
        },
        {
          "output_type": "display_data",
          "data": {
            "image/png": "[encoded data removed]",
            "text/plain": [
              "<Figure size 576x396 with 1 Axes>"
            ]
          },
          "metadata": {
            "tags": []
          }
        }
      ]
    },
    {
      "metadata": {
        "id": "4Yu-Uuh-MtFQ",
        "colab_type": "text"
      },
      "cell_type": "markdown",
      "source": [
        "## Question 3.1.2\n",
        "Plot the fourier series you used to make `FFT_doodle.png` by plotting the $a$’s against the $f$’s. Save this as `FFT_doodle_frequency_domain.png`"
      ]
    },
    {
      "metadata": {
        "id": "7JcB-R3IMlES",
        "colab_type": "code",
        "colab": {}
      },
      "cell_type": "code",
      "source": [
        "# Type your code here"
      ],
      "execution_count": 0,
      "outputs": []
    },
    {
      "metadata": {
        "id": "CS0AQB3sMtMP",
        "colab_type": "text"
      },
      "cell_type": "markdown",
      "source": [
        "## Question 3.1.3\n",
        "Numpy has a built in functions `fft.fft` and `fft.fftfreq` for doing fourier transforms. Run the following code to see how they work."
      ]
    },
    {
      "metadata": {
        "id": "x5At7aPOMdzM",
        "colab_type": "code",
        "colab": {
          "base_uri": "https://localhost:8080/",
          "height": 398
        },
        "outputId": "7caf48ae-54e9-499b-fe86-ad19ea2bc9ef"
      },
      "cell_type": "code",
      "source": [
        "n = 1001 # number of time steps, arbitrary\n",
        "t = np.linspace(0,10,n) # vector of time\n",
        "dt = t[1] - t[0] # get the time interval between each time step \n",
        "x = np.sin(2*np.pi*10*t) # signal to process, here just a sine wav\n",
        "\n",
        "F = np.fft.fft(x) # fourier transform of x\n",
        "F_real = np.real(F) # just look at the real (not imaginary) part of the FFT\n",
        "\n",
        "freq = np.fft.fftfreq(n,dt) # get the frequencies that correspond to the FFT values\n",
        "\n",
        "F_real_positive = F[:n//2] # just get the positive part of F\n",
        "freq_positive = freq[:n//2] # just get the positive part of freq\n",
        "\n",
        "plt.plot(freq_positive, F_real_positive) # plot the real part"
      ],
      "execution_count": 16,
      "outputs": [
        {
          "output_type": "stream",
          "text": [
            "/usr/local/lib/python3.6/dist-packages/numpy/core/numeric.py:492: ComplexWarning: Casting complex values to real discards the imaginary part\n",
            "  return array(a, dtype, copy=False, order=order)\n"
          ],
          "name": "stderr"
        },
        {
          "output_type": "execute_result",
          "data": {
            "text/plain": [
              "[<matplotlib.lines.Line2D at 0x7fdb40728dd8>]"
            ]
          },
          "metadata": {
            "tags": []
          },
          "execution_count": 16
        },
        {
          "output_type": "display_data",
          "data": {
            "image/png": "[encoded data removed]",
            "text/plain": [
              "<Figure size 576x396 with 1 Axes>"
            ]
          },
          "metadata": {
            "tags": []
          }
        }
      ]
    },
    {
      "metadata": {
        "id": "_H2JsX6MMtOy",
        "colab_type": "text"
      },
      "cell_type": "markdown",
      "source": [
        "## Question 3.1.4\n",
        "Calculate the FFT of simple sine wave whose length is 5 periods, and then do it once again for the same wave but make the length of the wave to be 500 periods. Plot and compare the results. What does it tell you?\n"
      ]
    },
    {
      "metadata": {
        "id": "6l46PgT7MN91",
        "colab_type": "code",
        "colab": {}
      },
      "cell_type": "code",
      "source": [
        "# Type your code here"
      ],
      "execution_count": 0,
      "outputs": []
    },
    {
      "metadata": {
        "id": "M9UjBia_MtUS",
        "colab_type": "text"
      },
      "cell_type": "markdown",
      "source": [
        "## Question 3.1.5\n",
        "[Now give this a go](https://musiclab.chromeexperiments.com/Spectrogram/)."
      ]
    },
    {
      "metadata": {
        "id": "uRQiPgWfai1E",
        "colab_type": "code",
        "colab": {}
      },
      "cell_type": "code",
      "source": [
        ""
      ],
      "execution_count": 0,
      "outputs": []
    },
    {
      "metadata": {
        "id": "Ll0Lo4hnMx0A",
        "colab_type": "code",
        "colab": {}
      },
      "cell_type": "code",
      "source": [
        "# Type your code here"
      ],
      "execution_count": 0,
      "outputs": []
    },
    {
      "metadata": {
        "id": "_1QTkmJpMtXJ",
        "colab_type": "text"
      },
      "cell_type": "markdown",
      "source": [
        "## Question 3.1.6\n",
        "That website showed you a spectrogram (try [scipy.signal.spectrogram](https://docs.scipy.org/doc/scipy/reference/generated/scipy.signal.spectrogram.html). Save a spectrogram of the data in `Dataset_01/Signal_C_01` as `test_spectrogram.png`.\n",
        "\n",
        "Generally speaking, what is a spectrogram and what does it show? For the particular case of `test_spectrogram.png`, what is this spectrogram telling you?"
      ]
    },
    {
      "metadata": {
        "id": "3Y84fyIb9qoZ",
        "colab_type": "code",
        "colab": {}
      },
      "cell_type": "code",
      "source": [
        "from scipy.signal import spectrogram\n",
        "# Type your code here"
      ],
      "execution_count": 0,
      "outputs": []
    },
    {
      "metadata": {
        "id": "yvJmvFNg9yLQ",
        "colab_type": "text"
      },
      "cell_type": "markdown",
      "source": [
        "# 3.2 Probability\n",
        "\n",
        "## Question 3.2.1\n",
        "Generate random numbers by using two probability functions. First, generate 200 uniformly distributed numbers between 1-100 and assign those values to the variable `uniform`. Second, generate 200 normally distributed numbers with mean $\\mu=50$ and standard deviation $\\sigma=30$ , and store those values in the variable `normal`. Plot both arrays as scatter plots on two different charts. Let the values of the $x$ axis be randomly generated numbers and to each one of those numbers assign the $y$ value to be 1. You should plot something like this:\n",
        "\n",
        "# BM UP TO HERE"
      ]
    },
    {
      "metadata": {
        "colab_type": "code",
        "id": "dtBU_VMIAEPo",
        "colab": {}
      },
      "cell_type": "code",
      "source": [
        "# Type your code here"
      ],
      "execution_count": 0,
      "outputs": []
    },
    {
      "metadata": {
        "colab_type": "text",
        "id": "0s29RTVIAEoK"
      },
      "cell_type": "markdown",
      "source": [
        "## Question 2.2.4\n",
        "Do the same for $y=sin(\\pi x) + x$ from $x=0$ to $x=6$ What does this tell you?"
      ]
    },
    {
      "metadata": {
        "colab_type": "code",
        "id": "BXuX_qXEAEqn",
        "colab": {}
      },
      "cell_type": "code",
      "source": [
        "# Type your code here"
      ],
      "execution_count": 0,
      "outputs": []
    },
    {
      "metadata": {
        "colab_type": "text",
        "id": "zETfBISTAEl2"
      },
      "cell_type": "markdown",
      "source": [
        "## Question 2.2.5\n",
        "Do this again for `Dataset_01/Signal_C_01` and plot the autocorrelation. What does this tell you?"
      ]
    },
    {
      "metadata": {
        "colab_type": "code",
        "id": "EKugA-NpAEjH",
        "colab": {}
      },
      "cell_type": "code",
      "source": [
        "# Type your code here"
      ],
      "execution_count": 0,
      "outputs": []
    },
    {
      "metadata": {
        "colab_type": "text",
        "id": "lJvUOyaBAEjK"
      },
      "cell_type": "markdown",
      "source": [
        "# 2.3 Cross-correlation\n",
        "## Question 2.3.1\n",
        "Write a script to calculate the cross-correlation coefficient of two lists of values for all values of  $\\Delta t$. Recall the definition of the cross-correlation coefficient, $C$ for two functions   and $X(t)$ and $Y(t+\\Delta t)$ with means $\\mu_x$ and $\\mu_y$ and standard deviations $\\sigma_x$ and $\\sigma_y$ respectively:\n",
        "\n",
        "$$\n",
        "C(\\Delta t) = \\frac{()E[X(t) - \\mu_x(t))(Y(t+\\Delta t)-\\mu_y(t+\\Delta t))]}{\\sigma_x(t)\\sigma_y(t+\\Delta t)}\n",
        "$$"
      ]
    },
    {
      "metadata": {
        "colab_type": "code",
        "id": "miCm9pnbAEoH",
        "colab": {}
      },
      "cell_type": "code",
      "source": [
        "# Type your code here"
      ],
      "execution_count": 0,
      "outputs": []
    },
    {
      "metadata": {
        "colab_type": "text",
        "id": "kWhFQoq_AEgb"
      },
      "cell_type": "markdown",
      "source": [
        "## Question 2.3.2\n",
        "Calculate the cross-correlation of `Dataset_01/Signal_C_01` and `Dataset_01/Signal_C_02`. What does this tell you?"
      ]
    },
    {
      "metadata": {
        "colab_type": "code",
        "id": "0R32O2lKAEgX",
        "colab": {}
      },
      "cell_type": "code",
      "source": [
        "# Type your code here"
      ],
      "execution_count": 0,
      "outputs": []
    },
    {
      "metadata": {
        "colab_type": "text",
        "id": "4WiJjGE8AEqq"
      },
      "cell_type": "markdown",
      "source": [
        "## Question 2.3.3\n",
        "Have a look at the `np.correlate` function. Compare it against your calculations in Questions 2.25 and 2.3.2. How did you go?"
      ]
    },
    {
      "metadata": {
        "colab_type": "code",
        "id": "V5GsfqgnAElx",
        "colab": {}
      },
      "cell_type": "code",
      "source": [
        "# Type your code here"
      ],
      "execution_count": 0,
      "outputs": []
    }
  ]
}