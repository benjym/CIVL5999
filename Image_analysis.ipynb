{
  "nbformat": 4,
  "nbformat_minor": 0,
  "metadata": {
    "colab": {
      "name": "Image_analysis.ipynb",
      "version": "0.3.2",
      "provenance": [],
      "include_colab_link": true
    },
    "kernelspec": {
      "name": "python3",
      "display_name": "Python 3"
    }
  },
  "cells": [
    {
      "cell_type": "markdown",
      "metadata": {
        "id": "view-in-github",
        "colab_type": "text"
      },
      "source": [
        "<a href=\"https://colab.research.google.com/github/benjym/CIVL5999/blob/master/Image_analysis.ipynb\" target=\"_parent\"><img src=\"https://colab.research.google.com/assets/colab-badge.svg\" alt=\"Open In Colab\"/></a>"
      ]
    },
    {
      "metadata": {
        "id": "zR2gof20ixsK",
        "colab_type": "code",
        "colab": {}
      },
      "cell_type": "code",
      "source": [
        "import numpy as np\n",
        "import matplotlib.pyplot as plt\n",
        "import imageio # for loading videos\n",
        "from matplotlib.colors import rgb_to_hsv"
      ],
      "execution_count": 0,
      "outputs": []
    },
    {
      "metadata": {
        "id": "7Mot0eXii12O",
        "colab_type": "text"
      },
      "cell_type": "markdown",
      "source": [
        "# CIVL5999: Image Analysis\n",
        "## Aim and objective\n",
        "In this tutorials you will apply things learned in lectures this week. You will take a video of bouncing ball and then you will post-process this video in order to find center of a ball in each frame. Then you can solve for the velocity of ball and plot the trajectory of a ball.  \n",
        "\n",
        "## Loading the video\n",
        "First, you will have to load video into the Python. One of the ways to do it is by using the imageio.get_reader function. When instantiating this object you are telling Python that you will use a certain video file as a variable. When calling `get_reader()` you still haven't read the frames from the video. \n",
        "See what you can find out about your video file by using the `video.get_meta_data()` method."
      ]
    },
    {
      "metadata": {
        "id": "ROGaEJ1ri2ec",
        "colab_type": "code",
        "colab": {}
      },
      "cell_type": "code",
      "source": [
        "\n",
        "video = imageio.get_reader('filename.mp4', 'ffmpeg')"
      ],
      "execution_count": 0,
      "outputs": []
    },
    {
      "metadata": {
        "id": "KbZm0h5NjHWI",
        "colab_type": "text"
      },
      "cell_type": "markdown",
      "source": [
        "## Reading the frames\n",
        "After loading the video using VideoReader, you can now start reading the frames of video that you will modify. The idea behind this is to read each frame as a single image. This image is an array which can be easily manipulated in the same way that we did in previous tutorials. Use the code print the size of each frame in the video."
      ]
    },
    {
      "metadata": {
        "id": "y6uw0z_Xi4qj",
        "colab_type": "code",
        "colab": {}
      },
      "cell_type": "code",
      "source": [
        "for image in video.iter_data():\n",
        "    print(image.shape)"
      ],
      "execution_count": 0,
      "outputs": []
    },
    {
      "metadata": {
        "id": "25x5tbNQjUT1",
        "colab_type": "text"
      },
      "cell_type": "markdown",
      "source": [
        "## RGB to HSV transformation\n",
        "Use one of the images you read in step before. Check the shape of the array. Probably you can notice that it has three dimensions e.g. 3×1280×720. Two of three dimensions are size of the image in pixels (e.g. 1280 and 720). Third dimension is 'colour' dimension, in this case color dimension is 3 beacuses we have thre colours red, green and blue. That is, one image consists out of three images - first image that shows what parts of image are red and how red, second image is green image and third one is blue image. When we overlap those images (like layers) we get full image."
      ]
    },
    {
      "metadata": {
        "id": "y579brZujUZz",
        "colab_type": "code",
        "colab": {}
      },
      "cell_type": "code",
      "source": [
        ""
      ],
      "execution_count": 0,
      "outputs": []
    },
    {
      "metadata": {
        "id": "Rbj5WE6UjUgg",
        "colab_type": "text"
      },
      "cell_type": "markdown",
      "source": [
        "Now we can express colours in different layers. Instead of using red, green and blue layer we can use hue, saturation and value \"layers\". Unfortunately dimensions of color in HSV system are not that straightforward as RGB and cannot be shown as separete images that combined give original image.\n",
        "To transform the image from RGB to HSV we can use rgb2hsv function. "
      ]
    },
    {
      "metadata": {
        "id": "sU1XvJ1SjU20",
        "colab_type": "code",
        "colab": {
          "base_uri": "https://localhost:8080/",
          "height": 181
        },
        "outputId": "bd1c9ac8-c373-4e93-bcbb-bd1650c1c363"
      },
      "cell_type": "code",
      "source": [
        "last_frame_HSV = rgb_to_hsv(last_frame)\n",
        "h, s, v = rgb_to_hsv(last_frame)"
      ],
      "execution_count": 8,
      "outputs": [
        {
          "output_type": "error",
          "ename": "NameError",
          "evalue": "ignored",
          "traceback": [
            "\u001b[0;31m---------------------------------------------------------------------------\u001b[0m",
            "\u001b[0;31mNameError\u001b[0m                                 Traceback (most recent call last)",
            "\u001b[0;32m<ipython-input-8-eb9d9fc0285f>\u001b[0m in \u001b[0;36m<module>\u001b[0;34m()\u001b[0m\n\u001b[0;32m----> 1\u001b[0;31m \u001b[0mlast_frame_HSV\u001b[0m \u001b[0;34m=\u001b[0m \u001b[0mrgb_to_hsv\u001b[0m\u001b[0;34m(\u001b[0m\u001b[0mlast_frame\u001b[0m\u001b[0;34m)\u001b[0m\u001b[0;34m\u001b[0m\u001b[0;34m\u001b[0m\u001b[0m\n\u001b[0m\u001b[1;32m      2\u001b[0m \u001b[0mh\u001b[0m\u001b[0;34m,\u001b[0m \u001b[0ms\u001b[0m\u001b[0;34m,\u001b[0m \u001b[0mv\u001b[0m \u001b[0;34m=\u001b[0m \u001b[0mrgb_to_hsv\u001b[0m\u001b[0;34m(\u001b[0m\u001b[0mlast_frame\u001b[0m\u001b[0;34m)\u001b[0m\u001b[0;34m\u001b[0m\u001b[0;34m\u001b[0m\u001b[0m\n",
            "\u001b[0;31mNameError\u001b[0m: name 'last_frame' is not defined"
          ]
        }
      ]
    },
    {
      "metadata": {
        "id": "LBB68FbLjU_F",
        "colab_type": "text"
      },
      "cell_type": "markdown",
      "source": [
        "## Thresholding - isolating the red objects\n",
        "Check the hue scale for HSV colour model:\n",
        "\n",
        "You can see that reds are represented with numbers between 0 and 0.1. So in our next step we are going to get rid off all colours that are not in that range. After plotting the image we can see that range 0-0.1 is too wide:\n",
        "\n",
        "Find the range of hue values that will reasonably well isolate the red ball in the picture."
      ]
    },
    {
      "metadata": {
        "id": "qHfisP2njVF-",
        "colab_type": "code",
        "colab": {}
      },
      "cell_type": "code",
      "source": [
        ""
      ],
      "execution_count": 0,
      "outputs": []
    },
    {
      "metadata": {
        "id": "um4zVRpzjVNe",
        "colab_type": "text"
      },
      "cell_type": "markdown",
      "source": [
        "Now when we got rid of all non red pixels we can separate \"more red\" objects from pale and/or dim red objects. Find the red values by additional filtering by saturation and value."
      ]
    },
    {
      "metadata": {
        "id": "o4wISKW2jVUK",
        "colab_type": "code",
        "colab": {}
      },
      "cell_type": "code",
      "source": [
        ""
      ],
      "execution_count": 0,
      "outputs": []
    },
    {
      "metadata": {
        "id": "PX_vm_4JjVbi",
        "colab_type": "text"
      },
      "cell_type": "markdown",
      "source": [
        "## Closing\n",
        "We have to get rid off any black spots in a red ball region in order to get any meaningful numbers about that region. In another words whole region of interest should be white without any black spots. This can be done in many ways by using morphological operators. One of the easiest and the most simple ways is to use closing function on image. In this case structuring element that is performing closing is of circular (disk) shape in order to preserve general shape of round edges of red ball. "
      ]
    },
    {
      "metadata": {
        "id": "CL35SyGnjze7",
        "colab_type": "code",
        "colab": {}
      },
      "cell_type": "code",
      "source": [
        ""
      ],
      "execution_count": 0,
      "outputs": []
    },
    {
      "metadata": {
        "id": "T9OhURz1j0Nj",
        "colab_type": "text"
      },
      "cell_type": "markdown",
      "source": [
        "##Labeling the regions\n",
        "Now we have image with white spots on the white background. If we did our job well and if we are lucky, then on the image is single white circular region that represent our red ball. If we have more than one white region then we have to label them - give oridnary number to each of those regions. We can do that by using function bwlabel that will return the label matrix L that contains labels (ordinary numbers) for the 8-connected objects found in image."
      ]
    },
    {
      "metadata": {
        "id": "v4Jn0PeOj0VS",
        "colab_type": "code",
        "colab": {}
      },
      "cell_type": "code",
      "source": [
        ""
      ],
      "execution_count": 0,
      "outputs": []
    },
    {
      "metadata": {
        "id": "tLtA8qnZj0e8",
        "colab_type": "text"
      },
      "cell_type": "markdown",
      "source": [
        "## Properties of labeled regions\n",
        "Remember that our goal was to find the position of red ball's center. This is done by calculating center of region by using regionprops function. That function can return  and  coordinates of labeled region's centroid. Also, it can return area, perimeter, and many more properties of labeled regions. Find the centroid of the ball."
      ]
    },
    {
      "metadata": {
        "id": "Gm0rC13oj0lR",
        "colab_type": "code",
        "colab": {}
      },
      "cell_type": "code",
      "source": [
        ""
      ],
      "execution_count": 0,
      "outputs": []
    },
    {
      "metadata": {
        "id": "q3_7e9uej0ql",
        "colab_type": "text"
      },
      "cell_type": "markdown",
      "source": [
        "## TASK 1\n",
        "Shoot a video of ball flying/bouncing/rolling. Load the each frame in loop and do the same procedure as above for each frame. Save the coordinates of ball's center into array. Plot the trajectory of ball on first image of the frame. Calculate the  and  components of ball's velocity. Calculate the balls velocity in each frame."
      ]
    },
    {
      "metadata": {
        "id": "RhnDjwP7j01R",
        "colab_type": "code",
        "colab": {}
      },
      "cell_type": "code",
      "source": [
        ""
      ],
      "execution_count": 0,
      "outputs": []
    },
    {
      "metadata": {
        "id": "f4MTlNfGj06i",
        "colab_type": "text"
      },
      "cell_type": "markdown",
      "source": [
        "## TASK 2\n",
        "Calculate the initial force applied to the ball and the drag coefficient"
      ]
    },
    {
      "metadata": {
        "id": "WKE5JYwuj0-m",
        "colab_type": "code",
        "colab": {}
      },
      "cell_type": "code",
      "source": [
        ""
      ],
      "execution_count": 0,
      "outputs": []
    }
  ]
}